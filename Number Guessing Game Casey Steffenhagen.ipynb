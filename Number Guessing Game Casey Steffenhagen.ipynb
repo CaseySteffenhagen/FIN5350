{
 "cells": [
  {
   "cell_type": "code",
   "execution_count": null,
   "metadata": {},
   "outputs": [],
   "source": [
    "import enum\n",
    "import random\n",
    "print(\"Hi Python! let's see if you can guess Tyler Brough's number using a binomial algorithm that I programmed you to do!\")\n",
    "def computer_guess(num):\n",
    "    low = 1\n",
    "    high = 100\n",
    "    guess = 50\n",
    "    while guess != num:\n",
    "        guess = (low+high)//2\n",
    "        print(\"Python takes a guess...\", guess)\n",
    "        if guess > num:\n",
    "            high = guess\n",
    "        elif guess < num:\n",
    "            low = guess + 1\n",
    "\n",
    "    print(\"Python Says\", guess, \"and it was correct!\")\n",
    "\n",
    "\n",
    "def main():\n",
    "    num = int(input(\"Tyler, please input your number <1-100> that we are keeping secret from python: \"))\n",
    "    if num < 1 or num > 100:\n",
    "        print(\"Must be in range [1, 100]\")\n",
    "    else:\n",
    "        computer_guess(num)\n",
    "\n",
    "if __name__ == '__main__':\n",
    "    main()"
   ]
  },
  {
   "cell_type": "code",
   "execution_count": null,
   "metadata": {},
   "outputs": [],
   "source": [
    "\n"
   ]
  }
 ],
 "metadata": {
  "kernelspec": {
   "display_name": "Python 3",
   "language": "python",
   "name": "python3"
  },
  "language_info": {
   "codemirror_mode": {
    "name": "ipython",
    "version": 3
   },
   "file_extension": ".py",
   "mimetype": "text/x-python",
   "name": "python",
   "nbconvert_exporter": "python",
   "pygments_lexer": "ipython3",
   "version": "3.7.3"
  }
 },
 "nbformat": 4,
 "nbformat_minor": 4
}
